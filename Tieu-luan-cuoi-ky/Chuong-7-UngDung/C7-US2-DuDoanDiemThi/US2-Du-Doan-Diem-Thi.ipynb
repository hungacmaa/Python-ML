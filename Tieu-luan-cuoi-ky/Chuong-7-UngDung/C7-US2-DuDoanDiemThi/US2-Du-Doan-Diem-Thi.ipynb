{
 "cells": [
  {
   "cell_type": "code",
   "execution_count": 1,
   "id": "560e5d14",
   "metadata": {},
   "outputs": [],
   "source": [
    "import pandas as pd\n",
    "import numpy as np\n",
    "import matplotlib.pyplot as plt"
   ]
  },
  {
   "cell_type": "code",
   "execution_count": 168,
   "id": "cecfdc7a",
   "metadata": {
    "scrolled": true
   },
   "outputs": [],
   "source": [
    "data0 = pd.read_csv(\"lop70.csv\")\n",
    "data1 = pd.read_csv(\"lop71.csv\")\n",
    "data2 = pd.read_csv(\"lop72.csv\")\n",
    "data3 = pd.read_csv(\"lop73.csv\")\n"
   ]
  },
  {
   "cell_type": "markdown",
   "id": "68a9071c",
   "metadata": {},
   "source": [
    "Xóa cột họ tên của data 0, chuẩn hóa tên cột"
   ]
  },
  {
   "cell_type": "code",
   "execution_count": 169,
   "id": "d6237ab1",
   "metadata": {},
   "outputs": [],
   "source": [
    "data0.drop(['Họ Tên'], axis = 1, inplace=True)"
   ]
  },
  {
   "cell_type": "code",
   "execution_count": 170,
   "id": "20789e1d",
   "metadata": {
    "scrolled": true
   },
   "outputs": [],
   "source": [
    "data0.columns = ['P1', 'P2', 'P3', 'Thi']"
   ]
  },
  {
   "cell_type": "markdown",
   "id": "afaacbf7",
   "metadata": {},
   "source": [
    "## Xử lý data1"
   ]
  },
  {
   "cell_type": "code",
   "execution_count": 171,
   "id": "5966d697",
   "metadata": {
    "scrolled": false
   },
   "outputs": [
    {
     "data": {
      "text/html": [
       "<div>\n",
       "<style scoped>\n",
       "    .dataframe tbody tr th:only-of-type {\n",
       "        vertical-align: middle;\n",
       "    }\n",
       "\n",
       "    .dataframe tbody tr th {\n",
       "        vertical-align: top;\n",
       "    }\n",
       "\n",
       "    .dataframe thead th {\n",
       "        text-align: right;\n",
       "    }\n",
       "</style>\n",
       "<table border=\"1\" class=\"dataframe\">\n",
       "  <thead>\n",
       "    <tr style=\"text-align: right;\">\n",
       "      <th></th>\n",
       "      <th>ho_ten</th>\n",
       "      <th>10%</th>\n",
       "      <th>20%</th>\n",
       "      <th>20%.1</th>\n",
       "      <th>thi</th>\n",
       "    </tr>\n",
       "  </thead>\n",
       "  <tbody>\n",
       "    <tr>\n",
       "      <th>0</th>\n",
       "      <td>71_011</td>\n",
       "      <td>6.50</td>\n",
       "      <td>6.50</td>\n",
       "      <td>6.0</td>\n",
       "      <td>6.50</td>\n",
       "    </tr>\n",
       "    <tr>\n",
       "      <th>1</th>\n",
       "      <td>71_012</td>\n",
       "      <td>5.50</td>\n",
       "      <td>5.50</td>\n",
       "      <td>6.0</td>\n",
       "      <td>5.00</td>\n",
       "    </tr>\n",
       "    <tr>\n",
       "      <th>2</th>\n",
       "      <td>71_013</td>\n",
       "      <td>6.50</td>\n",
       "      <td>7.00</td>\n",
       "      <td>7.0</td>\n",
       "      <td>6.75</td>\n",
       "    </tr>\n",
       "    <tr>\n",
       "      <th>3</th>\n",
       "      <td>71_014</td>\n",
       "      <td>7.25</td>\n",
       "      <td>5.50</td>\n",
       "      <td>7.0</td>\n",
       "      <td>6.00</td>\n",
       "    </tr>\n",
       "    <tr>\n",
       "      <th>4</th>\n",
       "      <td>71_021</td>\n",
       "      <td>7.50</td>\n",
       "      <td>5.00</td>\n",
       "      <td>6.0</td>\n",
       "      <td>6.00</td>\n",
       "    </tr>\n",
       "    <tr>\n",
       "      <th>...</th>\n",
       "      <td>...</td>\n",
       "      <td>...</td>\n",
       "      <td>...</td>\n",
       "      <td>...</td>\n",
       "      <td>...</td>\n",
       "    </tr>\n",
       "    <tr>\n",
       "      <th>71</th>\n",
       "      <td>71_146</td>\n",
       "      <td>7.00</td>\n",
       "      <td>6.75</td>\n",
       "      <td>7.5</td>\n",
       "      <td>6.50</td>\n",
       "    </tr>\n",
       "    <tr>\n",
       "      <th>72</th>\n",
       "      <td>71_151</td>\n",
       "      <td>7.50</td>\n",
       "      <td>7.00</td>\n",
       "      <td>8.0</td>\n",
       "      <td>9.00</td>\n",
       "    </tr>\n",
       "    <tr>\n",
       "      <th>73</th>\n",
       "      <td>71_152</td>\n",
       "      <td>7.00</td>\n",
       "      <td>6.50</td>\n",
       "      <td>6.5</td>\n",
       "      <td>6.50</td>\n",
       "    </tr>\n",
       "    <tr>\n",
       "      <th>74</th>\n",
       "      <td>71_153</td>\n",
       "      <td>7.00</td>\n",
       "      <td>7.00</td>\n",
       "      <td>7.5</td>\n",
       "      <td>7.50</td>\n",
       "    </tr>\n",
       "    <tr>\n",
       "      <th>75</th>\n",
       "      <td>71_154</td>\n",
       "      <td>7.00</td>\n",
       "      <td>7.00</td>\n",
       "      <td>7.0</td>\n",
       "      <td>NaN</td>\n",
       "    </tr>\n",
       "  </tbody>\n",
       "</table>\n",
       "<p>76 rows × 5 columns</p>\n",
       "</div>"
      ],
      "text/plain": [
       "    ho_ten   10%   20%  20%.1   thi\n",
       "0   71_011  6.50  6.50    6.0  6.50\n",
       "1   71_012  5.50  5.50    6.0  5.00\n",
       "2   71_013  6.50  7.00    7.0  6.75\n",
       "3   71_014  7.25  5.50    7.0  6.00\n",
       "4   71_021  7.50  5.00    6.0  6.00\n",
       "..     ...   ...   ...    ...   ...\n",
       "71  71_146  7.00  6.75    7.5  6.50\n",
       "72  71_151  7.50  7.00    8.0  9.00\n",
       "73  71_152  7.00  6.50    6.5  6.50\n",
       "74  71_153  7.00  7.00    7.5  7.50\n",
       "75  71_154  7.00  7.00    7.0   NaN\n",
       "\n",
       "[76 rows x 5 columns]"
      ]
     },
     "execution_count": 171,
     "metadata": {},
     "output_type": "execute_result"
    }
   ],
   "source": [
    "data1"
   ]
  },
  {
   "cell_type": "code",
   "execution_count": 172,
   "id": "862912aa",
   "metadata": {},
   "outputs": [
    {
     "data": {
      "text/plain": [
       "P1     float64\n",
       "P2     float64\n",
       "P3     float64\n",
       "Thi    float64\n",
       "dtype: object"
      ]
     },
     "execution_count": 172,
     "metadata": {},
     "output_type": "execute_result"
    }
   ],
   "source": [
    "data1.drop(['ho_ten'], axis = 1, inplace=True)\n",
    "data1.columns = ['P1', 'P2', 'P3', 'Thi']"
   ]
  },
  {
   "cell_type": "code",
   "execution_count": 173,
   "id": "fa16f028",
   "metadata": {},
   "outputs": [
    {
     "data": {
      "text/html": [
       "<div>\n",
       "<style scoped>\n",
       "    .dataframe tbody tr th:only-of-type {\n",
       "        vertical-align: middle;\n",
       "    }\n",
       "\n",
       "    .dataframe tbody tr th {\n",
       "        vertical-align: top;\n",
       "    }\n",
       "\n",
       "    .dataframe thead th {\n",
       "        text-align: right;\n",
       "    }\n",
       "</style>\n",
       "<table border=\"1\" class=\"dataframe\">\n",
       "  <thead>\n",
       "    <tr style=\"text-align: right;\">\n",
       "      <th></th>\n",
       "      <th>ho_ten</th>\n",
       "      <th>10%</th>\n",
       "      <th>20%</th>\n",
       "      <th>20%.1</th>\n",
       "      <th>thi</th>\n",
       "    </tr>\n",
       "  </thead>\n",
       "  <tbody>\n",
       "    <tr>\n",
       "      <th>0</th>\n",
       "      <td>72_011</td>\n",
       "      <td>6.000</td>\n",
       "      <td>6.500</td>\n",
       "      <td>7.00</td>\n",
       "      <td>6.75</td>\n",
       "    </tr>\n",
       "    <tr>\n",
       "      <th>1</th>\n",
       "      <td>72_012</td>\n",
       "      <td>6.500</td>\n",
       "      <td>7.250</td>\n",
       "      <td>7.75</td>\n",
       "      <td>7.50</td>\n",
       "    </tr>\n",
       "    <tr>\n",
       "      <th>2</th>\n",
       "      <td>72_013</td>\n",
       "      <td>5.750</td>\n",
       "      <td>6.750</td>\n",
       "      <td>7.25</td>\n",
       "      <td>7.00</td>\n",
       "    </tr>\n",
       "    <tr>\n",
       "      <th>3</th>\n",
       "      <td>72_014</td>\n",
       "      <td>6.750</td>\n",
       "      <td>7.000</td>\n",
       "      <td>7.50</td>\n",
       "      <td>7.25</td>\n",
       "    </tr>\n",
       "    <tr>\n",
       "      <th>4</th>\n",
       "      <td>72_015</td>\n",
       "      <td>6.000</td>\n",
       "      <td>6.500</td>\n",
       "      <td>7.00</td>\n",
       "      <td>6.75</td>\n",
       "    </tr>\n",
       "    <tr>\n",
       "      <th>...</th>\n",
       "      <td>...</td>\n",
       "      <td>...</td>\n",
       "      <td>...</td>\n",
       "      <td>...</td>\n",
       "      <td>...</td>\n",
       "    </tr>\n",
       "    <tr>\n",
       "      <th>72</th>\n",
       "      <td>72_151</td>\n",
       "      <td>7.375</td>\n",
       "      <td>6.500</td>\n",
       "      <td>7.50</td>\n",
       "      <td>7.00</td>\n",
       "    </tr>\n",
       "    <tr>\n",
       "      <th>73</th>\n",
       "      <td>72_152</td>\n",
       "      <td>7.250</td>\n",
       "      <td>6.750</td>\n",
       "      <td>7.00</td>\n",
       "      <td>7.00</td>\n",
       "    </tr>\n",
       "    <tr>\n",
       "      <th>74</th>\n",
       "      <td>72_153</td>\n",
       "      <td>7.125</td>\n",
       "      <td>6.750</td>\n",
       "      <td>6.75</td>\n",
       "      <td>7.00</td>\n",
       "    </tr>\n",
       "    <tr>\n",
       "      <th>75</th>\n",
       "      <td>72_154</td>\n",
       "      <td>7.750</td>\n",
       "      <td>6.375</td>\n",
       "      <td>7.50</td>\n",
       "      <td>7.00</td>\n",
       "    </tr>\n",
       "    <tr>\n",
       "      <th>76</th>\n",
       "      <td>72_155</td>\n",
       "      <td>7.875</td>\n",
       "      <td>6.125</td>\n",
       "      <td>6.75</td>\n",
       "      <td>7.00</td>\n",
       "    </tr>\n",
       "  </tbody>\n",
       "</table>\n",
       "<p>77 rows × 5 columns</p>\n",
       "</div>"
      ],
      "text/plain": [
       "    ho_ten    10%    20%  20%.1   thi\n",
       "0   72_011  6.000  6.500   7.00  6.75\n",
       "1   72_012  6.500  7.250   7.75  7.50\n",
       "2   72_013  5.750  6.750   7.25  7.00\n",
       "3   72_014  6.750  7.000   7.50  7.25\n",
       "4   72_015  6.000  6.500   7.00  6.75\n",
       "..     ...    ...    ...    ...   ...\n",
       "72  72_151  7.375  6.500   7.50  7.00\n",
       "73  72_152  7.250  6.750   7.00  7.00\n",
       "74  72_153  7.125  6.750   6.75  7.00\n",
       "75  72_154  7.750  6.375   7.50  7.00\n",
       "76  72_155  7.875  6.125   6.75  7.00\n",
       "\n",
       "[77 rows x 5 columns]"
      ]
     },
     "execution_count": 173,
     "metadata": {},
     "output_type": "execute_result"
    }
   ],
   "source": [
    "data2"
   ]
  },
  {
   "cell_type": "code",
   "execution_count": 174,
   "id": "48b1bdc6",
   "metadata": {
    "scrolled": false
   },
   "outputs": [
    {
     "data": {
      "text/html": [
       "<div>\n",
       "<style scoped>\n",
       "    .dataframe tbody tr th:only-of-type {\n",
       "        vertical-align: middle;\n",
       "    }\n",
       "\n",
       "    .dataframe tbody tr th {\n",
       "        vertical-align: top;\n",
       "    }\n",
       "\n",
       "    .dataframe thead th {\n",
       "        text-align: right;\n",
       "    }\n",
       "</style>\n",
       "<table border=\"1\" class=\"dataframe\">\n",
       "  <thead>\n",
       "    <tr style=\"text-align: right;\">\n",
       "      <th></th>\n",
       "      <th>P1</th>\n",
       "      <th>P2</th>\n",
       "      <th>P3</th>\n",
       "      <th>Thi</th>\n",
       "    </tr>\n",
       "  </thead>\n",
       "  <tbody>\n",
       "    <tr>\n",
       "      <th>0</th>\n",
       "      <td>6.000</td>\n",
       "      <td>6.500</td>\n",
       "      <td>7.00</td>\n",
       "      <td>6.75</td>\n",
       "    </tr>\n",
       "    <tr>\n",
       "      <th>1</th>\n",
       "      <td>6.500</td>\n",
       "      <td>7.250</td>\n",
       "      <td>7.75</td>\n",
       "      <td>7.50</td>\n",
       "    </tr>\n",
       "    <tr>\n",
       "      <th>2</th>\n",
       "      <td>5.750</td>\n",
       "      <td>6.750</td>\n",
       "      <td>7.25</td>\n",
       "      <td>7.00</td>\n",
       "    </tr>\n",
       "    <tr>\n",
       "      <th>3</th>\n",
       "      <td>6.750</td>\n",
       "      <td>7.000</td>\n",
       "      <td>7.50</td>\n",
       "      <td>7.25</td>\n",
       "    </tr>\n",
       "    <tr>\n",
       "      <th>4</th>\n",
       "      <td>6.000</td>\n",
       "      <td>6.500</td>\n",
       "      <td>7.00</td>\n",
       "      <td>6.75</td>\n",
       "    </tr>\n",
       "    <tr>\n",
       "      <th>...</th>\n",
       "      <td>...</td>\n",
       "      <td>...</td>\n",
       "      <td>...</td>\n",
       "      <td>...</td>\n",
       "    </tr>\n",
       "    <tr>\n",
       "      <th>72</th>\n",
       "      <td>7.375</td>\n",
       "      <td>6.500</td>\n",
       "      <td>7.50</td>\n",
       "      <td>7.00</td>\n",
       "    </tr>\n",
       "    <tr>\n",
       "      <th>73</th>\n",
       "      <td>7.250</td>\n",
       "      <td>6.750</td>\n",
       "      <td>7.00</td>\n",
       "      <td>7.00</td>\n",
       "    </tr>\n",
       "    <tr>\n",
       "      <th>74</th>\n",
       "      <td>7.125</td>\n",
       "      <td>6.750</td>\n",
       "      <td>6.75</td>\n",
       "      <td>7.00</td>\n",
       "    </tr>\n",
       "    <tr>\n",
       "      <th>75</th>\n",
       "      <td>7.750</td>\n",
       "      <td>6.375</td>\n",
       "      <td>7.50</td>\n",
       "      <td>7.00</td>\n",
       "    </tr>\n",
       "    <tr>\n",
       "      <th>76</th>\n",
       "      <td>7.875</td>\n",
       "      <td>6.125</td>\n",
       "      <td>6.75</td>\n",
       "      <td>7.00</td>\n",
       "    </tr>\n",
       "  </tbody>\n",
       "</table>\n",
       "<p>77 rows × 4 columns</p>\n",
       "</div>"
      ],
      "text/plain": [
       "       P1     P2    P3   Thi\n",
       "0   6.000  6.500  7.00  6.75\n",
       "1   6.500  7.250  7.75  7.50\n",
       "2   5.750  6.750  7.25  7.00\n",
       "3   6.750  7.000  7.50  7.25\n",
       "4   6.000  6.500  7.00  6.75\n",
       "..    ...    ...   ...   ...\n",
       "72  7.375  6.500  7.50  7.00\n",
       "73  7.250  6.750  7.00  7.00\n",
       "74  7.125  6.750  6.75  7.00\n",
       "75  7.750  6.375  7.50  7.00\n",
       "76  7.875  6.125  6.75  7.00\n",
       "\n",
       "[77 rows x 4 columns]"
      ]
     },
     "execution_count": 174,
     "metadata": {},
     "output_type": "execute_result"
    }
   ],
   "source": [
    "data2.drop(['ho_ten'], axis = 1, inplace=True)\n",
    "data2.columns = ['P1', 'P2', 'P3', 'Thi']\n",
    "data2"
   ]
  },
  {
   "cell_type": "code",
   "execution_count": 175,
   "id": "0b8061c0",
   "metadata": {
    "scrolled": false
   },
   "outputs": [
    {
     "name": "stdout",
     "output_type": "stream",
     "text": [
      "Index(['Unnamed: 0', '10%', '20%', 'BT bo sung', '20%.1', 'Thi'], dtype='object')\n"
     ]
    }
   ],
   "source": [
    "print(data3.columns)"
   ]
  },
  {
   "cell_type": "code",
   "execution_count": 201,
   "id": "4f4f8931",
   "metadata": {},
   "outputs": [
    {
     "data": {
      "text/plain": [
       "P1     float64\n",
       "P2     float64\n",
       "P3     float64\n",
       "Thi    float64\n",
       "dtype: object"
      ]
     },
     "execution_count": 201,
     "metadata": {},
     "output_type": "execute_result"
    }
   ],
   "source": [
    "data3.dtypes"
   ]
  },
  {
   "cell_type": "code",
   "execution_count": 181,
   "id": "bc768c31",
   "metadata": {},
   "outputs": [
    {
     "data": {
      "text/html": [
       "<div>\n",
       "<style scoped>\n",
       "    .dataframe tbody tr th:only-of-type {\n",
       "        vertical-align: middle;\n",
       "    }\n",
       "\n",
       "    .dataframe tbody tr th {\n",
       "        vertical-align: top;\n",
       "    }\n",
       "\n",
       "    .dataframe thead th {\n",
       "        text-align: right;\n",
       "    }\n",
       "</style>\n",
       "<table border=\"1\" class=\"dataframe\">\n",
       "  <thead>\n",
       "    <tr style=\"text-align: right;\">\n",
       "      <th></th>\n",
       "      <th>10%</th>\n",
       "      <th>P3</th>\n",
       "      <th>20%</th>\n",
       "      <th>Thi</th>\n",
       "    </tr>\n",
       "  </thead>\n",
       "  <tbody>\n",
       "    <tr>\n",
       "      <th>0</th>\n",
       "      <td>7.25</td>\n",
       "      <td>6.250</td>\n",
       "      <td>6.50</td>\n",
       "      <td>6.75</td>\n",
       "    </tr>\n",
       "    <tr>\n",
       "      <th>1</th>\n",
       "      <td>7.00</td>\n",
       "      <td>6.250</td>\n",
       "      <td>7.50</td>\n",
       "      <td>7.00</td>\n",
       "    </tr>\n",
       "    <tr>\n",
       "      <th>2</th>\n",
       "      <td>7.00</td>\n",
       "      <td>6.250</td>\n",
       "      <td>7.25</td>\n",
       "      <td>7.00</td>\n",
       "    </tr>\n",
       "    <tr>\n",
       "      <th>3</th>\n",
       "      <td>6.50</td>\n",
       "      <td>6.125</td>\n",
       "      <td>7.00</td>\n",
       "      <td>6.50</td>\n",
       "    </tr>\n",
       "    <tr>\n",
       "      <th>4</th>\n",
       "      <td>7.50</td>\n",
       "      <td>6.000</td>\n",
       "      <td>7.00</td>\n",
       "      <td>7.25</td>\n",
       "    </tr>\n",
       "    <tr>\n",
       "      <th>...</th>\n",
       "      <td>...</td>\n",
       "      <td>...</td>\n",
       "      <td>...</td>\n",
       "      <td>...</td>\n",
       "    </tr>\n",
       "    <tr>\n",
       "      <th>64</th>\n",
       "      <td>5.50</td>\n",
       "      <td>6.750</td>\n",
       "      <td>6.75</td>\n",
       "      <td>6.50</td>\n",
       "    </tr>\n",
       "    <tr>\n",
       "      <th>65</th>\n",
       "      <td>7.00</td>\n",
       "      <td>6.250</td>\n",
       "      <td>7.00</td>\n",
       "      <td>6.00</td>\n",
       "    </tr>\n",
       "    <tr>\n",
       "      <th>66</th>\n",
       "      <td>4.00</td>\n",
       "      <td>6.250</td>\n",
       "      <td>7.00</td>\n",
       "      <td>6.00</td>\n",
       "    </tr>\n",
       "    <tr>\n",
       "      <th>67</th>\n",
       "      <td>7.50</td>\n",
       "      <td>8.000</td>\n",
       "      <td>7.00</td>\n",
       "      <td>7.00</td>\n",
       "    </tr>\n",
       "    <tr>\n",
       "      <th>68</th>\n",
       "      <td>3.50</td>\n",
       "      <td>5.500</td>\n",
       "      <td>3.00</td>\n",
       "      <td>5.00</td>\n",
       "    </tr>\n",
       "  </tbody>\n",
       "</table>\n",
       "<p>69 rows × 4 columns</p>\n",
       "</div>"
      ],
      "text/plain": [
       "     10%     P3   20%   Thi\n",
       "0   7.25  6.250  6.50  6.75\n",
       "1   7.00  6.250  7.50  7.00\n",
       "2   7.00  6.250  7.25  7.00\n",
       "3   6.50  6.125  7.00  6.50\n",
       "4   7.50  6.000  7.00  7.25\n",
       "..   ...    ...   ...   ...\n",
       "64  5.50  6.750  6.75  6.50\n",
       "65  7.00  6.250  7.00  6.00\n",
       "66  4.00  6.250  7.00  6.00\n",
       "67  7.50  8.000  7.00  7.00\n",
       "68  3.50  5.500  3.00  5.00\n",
       "\n",
       "[69 rows x 4 columns]"
      ]
     },
     "execution_count": 181,
     "metadata": {},
     "output_type": "execute_result"
    }
   ],
   "source": [
    "# data3.drop(['Unnamed: 0'], axis = 1, inplace=True)\n",
    "# data3.insert(2,'P3',(data3['BT bo sung']+ data3['20%.1'])/2)\n",
    "data3.drop(['BT bo sung', '20%.1'], axis=1, inplace=True)\n",
    "data3"
   ]
  },
  {
   "cell_type": "code",
   "execution_count": 182,
   "id": "38e3e361",
   "metadata": {},
   "outputs": [
    {
     "data": {
      "text/html": [
       "<div>\n",
       "<style scoped>\n",
       "    .dataframe tbody tr th:only-of-type {\n",
       "        vertical-align: middle;\n",
       "    }\n",
       "\n",
       "    .dataframe tbody tr th {\n",
       "        vertical-align: top;\n",
       "    }\n",
       "\n",
       "    .dataframe thead th {\n",
       "        text-align: right;\n",
       "    }\n",
       "</style>\n",
       "<table border=\"1\" class=\"dataframe\">\n",
       "  <thead>\n",
       "    <tr style=\"text-align: right;\">\n",
       "      <th></th>\n",
       "      <th>P1</th>\n",
       "      <th>P2</th>\n",
       "      <th>P3</th>\n",
       "      <th>Thi</th>\n",
       "    </tr>\n",
       "  </thead>\n",
       "  <tbody>\n",
       "    <tr>\n",
       "      <th>0</th>\n",
       "      <td>7.25</td>\n",
       "      <td>6.250</td>\n",
       "      <td>6.50</td>\n",
       "      <td>6.75</td>\n",
       "    </tr>\n",
       "    <tr>\n",
       "      <th>1</th>\n",
       "      <td>7.00</td>\n",
       "      <td>6.250</td>\n",
       "      <td>7.50</td>\n",
       "      <td>7.00</td>\n",
       "    </tr>\n",
       "    <tr>\n",
       "      <th>2</th>\n",
       "      <td>7.00</td>\n",
       "      <td>6.250</td>\n",
       "      <td>7.25</td>\n",
       "      <td>7.00</td>\n",
       "    </tr>\n",
       "    <tr>\n",
       "      <th>3</th>\n",
       "      <td>6.50</td>\n",
       "      <td>6.125</td>\n",
       "      <td>7.00</td>\n",
       "      <td>6.50</td>\n",
       "    </tr>\n",
       "    <tr>\n",
       "      <th>4</th>\n",
       "      <td>7.50</td>\n",
       "      <td>6.000</td>\n",
       "      <td>7.00</td>\n",
       "      <td>7.25</td>\n",
       "    </tr>\n",
       "    <tr>\n",
       "      <th>...</th>\n",
       "      <td>...</td>\n",
       "      <td>...</td>\n",
       "      <td>...</td>\n",
       "      <td>...</td>\n",
       "    </tr>\n",
       "    <tr>\n",
       "      <th>64</th>\n",
       "      <td>5.50</td>\n",
       "      <td>6.750</td>\n",
       "      <td>6.75</td>\n",
       "      <td>6.50</td>\n",
       "    </tr>\n",
       "    <tr>\n",
       "      <th>65</th>\n",
       "      <td>7.00</td>\n",
       "      <td>6.250</td>\n",
       "      <td>7.00</td>\n",
       "      <td>6.00</td>\n",
       "    </tr>\n",
       "    <tr>\n",
       "      <th>66</th>\n",
       "      <td>4.00</td>\n",
       "      <td>6.250</td>\n",
       "      <td>7.00</td>\n",
       "      <td>6.00</td>\n",
       "    </tr>\n",
       "    <tr>\n",
       "      <th>67</th>\n",
       "      <td>7.50</td>\n",
       "      <td>8.000</td>\n",
       "      <td>7.00</td>\n",
       "      <td>7.00</td>\n",
       "    </tr>\n",
       "    <tr>\n",
       "      <th>68</th>\n",
       "      <td>3.50</td>\n",
       "      <td>5.500</td>\n",
       "      <td>3.00</td>\n",
       "      <td>5.00</td>\n",
       "    </tr>\n",
       "  </tbody>\n",
       "</table>\n",
       "<p>69 rows × 4 columns</p>\n",
       "</div>"
      ],
      "text/plain": [
       "      P1     P2    P3   Thi\n",
       "0   7.25  6.250  6.50  6.75\n",
       "1   7.00  6.250  7.50  7.00\n",
       "2   7.00  6.250  7.25  7.00\n",
       "3   6.50  6.125  7.00  6.50\n",
       "4   7.50  6.000  7.00  7.25\n",
       "..   ...    ...   ...   ...\n",
       "64  5.50  6.750  6.75  6.50\n",
       "65  7.00  6.250  7.00  6.00\n",
       "66  4.00  6.250  7.00  6.00\n",
       "67  7.50  8.000  7.00  7.00\n",
       "68  3.50  5.500  3.00  5.00\n",
       "\n",
       "[69 rows x 4 columns]"
      ]
     },
     "execution_count": 182,
     "metadata": {},
     "output_type": "execute_result"
    }
   ],
   "source": [
    "data3.columns=['P1', 'P2', 'P3', 'Thi']\n",
    "data3"
   ]
  },
  {
   "cell_type": "code",
   "execution_count": 193,
   "id": "f3290754",
   "metadata": {},
   "outputs": [
    {
     "data": {
      "text/plain": [
       "P1     float64\n",
       "P2     float64\n",
       "P3     float64\n",
       "Thi    float64\n",
       "dtype: object"
      ]
     },
     "execution_count": 193,
     "metadata": {},
     "output_type": "execute_result"
    }
   ],
   "source": [
    "data3.dtypes"
   ]
  },
  {
   "cell_type": "code",
   "execution_count": 194,
   "id": "24ec6059",
   "metadata": {
    "scrolled": false
   },
   "outputs": [
    {
     "data": {
      "text/html": [
       "<div>\n",
       "<style scoped>\n",
       "    .dataframe tbody tr th:only-of-type {\n",
       "        vertical-align: middle;\n",
       "    }\n",
       "\n",
       "    .dataframe tbody tr th {\n",
       "        vertical-align: top;\n",
       "    }\n",
       "\n",
       "    .dataframe thead th {\n",
       "        text-align: right;\n",
       "    }\n",
       "</style>\n",
       "<table border=\"1\" class=\"dataframe\">\n",
       "  <thead>\n",
       "    <tr style=\"text-align: right;\">\n",
       "      <th></th>\n",
       "      <th>P1</th>\n",
       "      <th>P2</th>\n",
       "      <th>P3</th>\n",
       "      <th>Thi</th>\n",
       "    </tr>\n",
       "  </thead>\n",
       "  <tbody>\n",
       "    <tr>\n",
       "      <th>0</th>\n",
       "      <td>8.375</td>\n",
       "      <td>7.25</td>\n",
       "      <td>8.50</td>\n",
       "      <td>9.0</td>\n",
       "    </tr>\n",
       "    <tr>\n",
       "      <th>1</th>\n",
       "      <td>8.250</td>\n",
       "      <td>7.25</td>\n",
       "      <td>8.50</td>\n",
       "      <td>9.0</td>\n",
       "    </tr>\n",
       "    <tr>\n",
       "      <th>2</th>\n",
       "      <td>8.500</td>\n",
       "      <td>7.50</td>\n",
       "      <td>8.50</td>\n",
       "      <td>10.0</td>\n",
       "    </tr>\n",
       "    <tr>\n",
       "      <th>3</th>\n",
       "      <td>4.000</td>\n",
       "      <td>7.25</td>\n",
       "      <td>8.50</td>\n",
       "      <td>9.0</td>\n",
       "    </tr>\n",
       "    <tr>\n",
       "      <th>4</th>\n",
       "      <td>8.750</td>\n",
       "      <td>7.50</td>\n",
       "      <td>8.50</td>\n",
       "      <td>9.5</td>\n",
       "    </tr>\n",
       "    <tr>\n",
       "      <th>...</th>\n",
       "      <td>...</td>\n",
       "      <td>...</td>\n",
       "      <td>...</td>\n",
       "      <td>...</td>\n",
       "    </tr>\n",
       "    <tr>\n",
       "      <th>292</th>\n",
       "      <td>5.500</td>\n",
       "      <td>6.75</td>\n",
       "      <td>6.75</td>\n",
       "      <td>6.5</td>\n",
       "    </tr>\n",
       "    <tr>\n",
       "      <th>293</th>\n",
       "      <td>7.000</td>\n",
       "      <td>6.25</td>\n",
       "      <td>7.00</td>\n",
       "      <td>6.0</td>\n",
       "    </tr>\n",
       "    <tr>\n",
       "      <th>294</th>\n",
       "      <td>4.000</td>\n",
       "      <td>6.25</td>\n",
       "      <td>7.00</td>\n",
       "      <td>6.0</td>\n",
       "    </tr>\n",
       "    <tr>\n",
       "      <th>295</th>\n",
       "      <td>7.500</td>\n",
       "      <td>8.00</td>\n",
       "      <td>7.00</td>\n",
       "      <td>7.0</td>\n",
       "    </tr>\n",
       "    <tr>\n",
       "      <th>296</th>\n",
       "      <td>3.500</td>\n",
       "      <td>5.50</td>\n",
       "      <td>3.00</td>\n",
       "      <td>5.0</td>\n",
       "    </tr>\n",
       "  </tbody>\n",
       "</table>\n",
       "<p>297 rows × 4 columns</p>\n",
       "</div>"
      ],
      "text/plain": [
       "        P1    P2    P3   Thi\n",
       "0    8.375  7.25  8.50   9.0\n",
       "1    8.250  7.25  8.50   9.0\n",
       "2    8.500  7.50  8.50  10.0\n",
       "3    4.000  7.25  8.50   9.0\n",
       "4    8.750  7.50  8.50   9.5\n",
       "..     ...   ...   ...   ...\n",
       "292  5.500  6.75  6.75   6.5\n",
       "293  7.000  6.25  7.00   6.0\n",
       "294  4.000  6.25  7.00   6.0\n",
       "295  7.500  8.00  7.00   7.0\n",
       "296  3.500  5.50  3.00   5.0\n",
       "\n",
       "[297 rows x 4 columns]"
      ]
     },
     "execution_count": 194,
     "metadata": {},
     "output_type": "execute_result"
    }
   ],
   "source": [
    "data = pd.concat([data0, data1, data2, data3], axis=0)\n",
    "data = data.reset_index(drop=True)\n",
    "data"
   ]
  },
  {
   "cell_type": "code",
   "execution_count": 202,
   "id": "4103e485",
   "metadata": {},
   "outputs": [
    {
     "data": {
      "text/plain": [
       "P1     0\n",
       "P2     0\n",
       "P3     0\n",
       "Thi    0\n",
       "dtype: int64"
      ]
     },
     "execution_count": 202,
     "metadata": {},
     "output_type": "execute_result"
    }
   ],
   "source": [
    "data.isnull().sum()"
   ]
  },
  {
   "cell_type": "code",
   "execution_count": 196,
   "id": "c5f92347",
   "metadata": {},
   "outputs": [
    {
     "data": {
      "text/plain": [
       "P1     float64\n",
       "P2     float64\n",
       "P3     float64\n",
       "Thi    float64\n",
       "dtype: object"
      ]
     },
     "execution_count": 196,
     "metadata": {},
     "output_type": "execute_result"
    }
   ],
   "source": [
    "data = data[(data.P1!=np.nan) & (data.P2!=np.nan) & (data.P3!=np.nan) & (data.Thi!=np.nan)]\n",
    "data.dtypes"
   ]
  },
  {
   "cell_type": "code",
   "execution_count": 203,
   "id": "f457074c",
   "metadata": {},
   "outputs": [
    {
     "data": {
      "text/plain": [
       "P1     float64\n",
       "P2     float64\n",
       "P3     float64\n",
       "Thi    float64\n",
       "dtype: object"
      ]
     },
     "execution_count": 203,
     "metadata": {},
     "output_type": "execute_result"
    }
   ],
   "source": [
    "data.dtypes"
   ]
  },
  {
   "cell_type": "code",
   "execution_count": 204,
   "id": "4f7856c2",
   "metadata": {},
   "outputs": [
    {
     "data": {
      "text/plain": [
       "0      False\n",
       "1      False\n",
       "2      False\n",
       "3      False\n",
       "4      False\n",
       "       ...  \n",
       "292    False\n",
       "293    False\n",
       "294    False\n",
       "295    False\n",
       "296    False\n",
       "Length: 297, dtype: bool"
      ]
     },
     "execution_count": 204,
     "metadata": {},
     "output_type": "execute_result"
    }
   ],
   "source": [
    "data.duplicated(keep=False)"
   ]
  },
  {
   "cell_type": "code",
   "execution_count": 205,
   "id": "ca5a5a47",
   "metadata": {},
   "outputs": [
    {
     "data": {
      "text/html": [
       "<div>\n",
       "<style scoped>\n",
       "    .dataframe tbody tr th:only-of-type {\n",
       "        vertical-align: middle;\n",
       "    }\n",
       "\n",
       "    .dataframe tbody tr th {\n",
       "        vertical-align: top;\n",
       "    }\n",
       "\n",
       "    .dataframe thead th {\n",
       "        text-align: right;\n",
       "    }\n",
       "</style>\n",
       "<table border=\"1\" class=\"dataframe\">\n",
       "  <thead>\n",
       "    <tr style=\"text-align: right;\">\n",
       "      <th></th>\n",
       "      <th>P1</th>\n",
       "      <th>P2</th>\n",
       "      <th>P3</th>\n",
       "      <th>Thi</th>\n",
       "    </tr>\n",
       "  </thead>\n",
       "  <tbody>\n",
       "    <tr>\n",
       "      <th>0</th>\n",
       "      <td>8.375</td>\n",
       "      <td>7.25</td>\n",
       "      <td>8.50</td>\n",
       "      <td>9.0</td>\n",
       "    </tr>\n",
       "    <tr>\n",
       "      <th>1</th>\n",
       "      <td>8.250</td>\n",
       "      <td>7.25</td>\n",
       "      <td>8.50</td>\n",
       "      <td>9.0</td>\n",
       "    </tr>\n",
       "    <tr>\n",
       "      <th>2</th>\n",
       "      <td>8.500</td>\n",
       "      <td>7.50</td>\n",
       "      <td>8.50</td>\n",
       "      <td>10.0</td>\n",
       "    </tr>\n",
       "    <tr>\n",
       "      <th>3</th>\n",
       "      <td>4.000</td>\n",
       "      <td>7.25</td>\n",
       "      <td>8.50</td>\n",
       "      <td>9.0</td>\n",
       "    </tr>\n",
       "    <tr>\n",
       "      <th>4</th>\n",
       "      <td>8.750</td>\n",
       "      <td>7.50</td>\n",
       "      <td>8.50</td>\n",
       "      <td>9.5</td>\n",
       "    </tr>\n",
       "    <tr>\n",
       "      <th>...</th>\n",
       "      <td>...</td>\n",
       "      <td>...</td>\n",
       "      <td>...</td>\n",
       "      <td>...</td>\n",
       "    </tr>\n",
       "    <tr>\n",
       "      <th>292</th>\n",
       "      <td>5.500</td>\n",
       "      <td>6.75</td>\n",
       "      <td>6.75</td>\n",
       "      <td>6.5</td>\n",
       "    </tr>\n",
       "    <tr>\n",
       "      <th>293</th>\n",
       "      <td>7.000</td>\n",
       "      <td>6.25</td>\n",
       "      <td>7.00</td>\n",
       "      <td>6.0</td>\n",
       "    </tr>\n",
       "    <tr>\n",
       "      <th>294</th>\n",
       "      <td>4.000</td>\n",
       "      <td>6.25</td>\n",
       "      <td>7.00</td>\n",
       "      <td>6.0</td>\n",
       "    </tr>\n",
       "    <tr>\n",
       "      <th>295</th>\n",
       "      <td>7.500</td>\n",
       "      <td>8.00</td>\n",
       "      <td>7.00</td>\n",
       "      <td>7.0</td>\n",
       "    </tr>\n",
       "    <tr>\n",
       "      <th>296</th>\n",
       "      <td>3.500</td>\n",
       "      <td>5.50</td>\n",
       "      <td>3.00</td>\n",
       "      <td>5.0</td>\n",
       "    </tr>\n",
       "  </tbody>\n",
       "</table>\n",
       "<p>297 rows × 4 columns</p>\n",
       "</div>"
      ],
      "text/plain": [
       "        P1    P2    P3   Thi\n",
       "0    8.375  7.25  8.50   9.0\n",
       "1    8.250  7.25  8.50   9.0\n",
       "2    8.500  7.50  8.50  10.0\n",
       "3    4.000  7.25  8.50   9.0\n",
       "4    8.750  7.50  8.50   9.5\n",
       "..     ...   ...   ...   ...\n",
       "292  5.500  6.75  6.75   6.5\n",
       "293  7.000  6.25  7.00   6.0\n",
       "294  4.000  6.25  7.00   6.0\n",
       "295  7.500  8.00  7.00   7.0\n",
       "296  3.500  5.50  3.00   5.0\n",
       "\n",
       "[297 rows x 4 columns]"
      ]
     },
     "execution_count": 205,
     "metadata": {},
     "output_type": "execute_result"
    }
   ],
   "source": [
    "data.drop_duplicates(keep='first')\n",
    "data"
   ]
  },
  {
   "cell_type": "code",
   "execution_count": 198,
   "id": "a78d40bc",
   "metadata": {},
   "outputs": [
    {
     "data": {
      "text/plain": [
       "P1     0\n",
       "P2     0\n",
       "P3     0\n",
       "Thi    0\n",
       "dtype: int64"
      ]
     },
     "execution_count": 198,
     "metadata": {},
     "output_type": "execute_result"
    }
   ],
   "source": [
    "data.fillna(data.mean(numeric_only=True), inplace = True) # replace NaN with the mean\n",
    "data.isnull().sum()"
   ]
  },
  {
   "cell_type": "code",
   "execution_count": 207,
   "id": "5ac2b41f",
   "metadata": {},
   "outputs": [],
   "source": [
    "data.to_csv('diem-after-cleaning.csv')"
   ]
  },
  {
   "cell_type": "code",
   "execution_count": 208,
   "id": "6882b65e",
   "metadata": {},
   "outputs": [
    {
     "name": "stdout",
     "output_type": "stream",
     "text": [
      "P1     float64\n",
      "P2     float64\n",
      "P3     float64\n",
      "Thi    float64\n",
      "dtype: object\n"
     ]
    }
   ],
   "source": [
    "print(data.dtypes)"
   ]
  },
  {
   "cell_type": "code",
   "execution_count": 106,
   "id": "31378ca2",
   "metadata": {},
   "outputs": [],
   "source": [
    "data = pd.read_csv('diem-after-cleaning.csv')"
   ]
  },
  {
   "cell_type": "markdown",
   "id": "f022c191",
   "metadata": {},
   "source": [
    "# Sử dụng machine learning cơ bản"
   ]
  },
  {
   "cell_type": "code",
   "execution_count": 240,
   "id": "e13e0c71",
   "metadata": {},
   "outputs": [],
   "source": [
    "from sklearn.model_selection import train_test_split\n",
    "from sklearn.linear_model import LinearRegression\n",
    "from sklearn.metrics import mean_squared_error, r2_score"
   ]
  },
  {
   "cell_type": "code",
   "execution_count": 210,
   "id": "5a4b8b12",
   "metadata": {},
   "outputs": [],
   "source": [
    "X = data[['P1','P2','P3']].values\n",
    "y = data[['Thi']].values"
   ]
  },
  {
   "cell_type": "code",
   "execution_count": 216,
   "id": "285de501",
   "metadata": {},
   "outputs": [],
   "source": [
    "X_train, X_test, y_train, y_test = train_test_split(X, y, test_size=0.2)"
   ]
  },
  {
   "cell_type": "code",
   "execution_count": 219,
   "id": "0ccb76a8",
   "metadata": {},
   "outputs": [
    {
     "data": {
      "text/plain": [
       "LinearRegression()"
      ]
     },
     "execution_count": 219,
     "metadata": {},
     "output_type": "execute_result"
    }
   ],
   "source": [
    "model = LinearRegression()\n",
    "model.fit(X_train, y_train)"
   ]
  },
  {
   "cell_type": "code",
   "execution_count": 224,
   "id": "60917bce",
   "metadata": {},
   "outputs": [],
   "source": [
    "y_pred = model.predict(X_test)"
   ]
  },
  {
   "cell_type": "code",
   "execution_count": 226,
   "id": "6718d9e7",
   "metadata": {},
   "outputs": [
    {
     "name": "stdout",
     "output_type": "stream",
     "text": [
      "[[7.5]\n",
      " [6. ]\n",
      " [8. ]\n",
      " [7. ]\n",
      " [7.5]]\n"
     ]
    }
   ],
   "source": [
    "print(y_test[0:5])"
   ]
  },
  {
   "cell_type": "code",
   "execution_count": 228,
   "id": "640715c3",
   "metadata": {},
   "outputs": [
    {
     "name": "stdout",
     "output_type": "stream",
     "text": [
      "[[7.97527504]\n",
      " [6.81273313]\n",
      " [7.72125224]\n",
      " [7.16866632]\n",
      " [7.96604685]]\n"
     ]
    }
   ],
   "source": [
    "print(y_pred[0:5])"
   ]
  },
  {
   "cell_type": "code",
   "execution_count": 231,
   "id": "6efe6270",
   "metadata": {},
   "outputs": [
    {
     "data": {
      "text/plain": [
       "0.7412780632419204"
      ]
     },
     "execution_count": 231,
     "metadata": {},
     "output_type": "execute_result"
    }
   ],
   "source": [
    "model.score(X_test, y_test)"
   ]
  },
  {
   "cell_type": "code",
   "execution_count": 232,
   "id": "1bfc4b03",
   "metadata": {},
   "outputs": [
    {
     "data": {
      "text/plain": [
       "0.8292973296131452"
      ]
     },
     "execution_count": 232,
     "metadata": {},
     "output_type": "execute_result"
    }
   ],
   "source": [
    "model.score(X_train, y_train)"
   ]
  },
  {
   "cell_type": "code",
   "execution_count": 242,
   "id": "690a8c08",
   "metadata": {},
   "outputs": [
    {
     "name": "stdout",
     "output_type": "stream",
     "text": [
      "ty le tap test\n",
      "0.7914129563816222\n",
      "ty le tap train\n",
      "0.8259944681413645\n",
      "mse: 0.5050977107385175\n",
      "r2: 0.7914129563816222\n"
     ]
    }
   ],
   "source": [
    "X_train, X_test, y_train, y_test = train_test_split(X, y, test_size=0.3)\n",
    "model = LinearRegression()\n",
    "model.fit(X_train, y_train)\n",
    "y_pred = model.predict(X_test)\n",
    "print(\"ty le tap test\")\n",
    "print(model.score(X_test, y_test))\n",
    "print(\"ty le tap train\")\n",
    "print(model.score(X_train, y_train))\n",
    "print(\"mse: \"+str(mean_squared_error(y_test, y_pred))) #cang thap cang tot\n",
    "print(\"r2: \"+str(r2_score(y_test, y_pred))) #cang cao cang tot"
   ]
  },
  {
   "cell_type": "code",
   "execution_count": 243,
   "id": "8ab817ca",
   "metadata": {},
   "outputs": [
    {
     "name": "stdout",
     "output_type": "stream",
     "text": [
      "ty le tap test\n",
      "0.7973830001089237\n",
      "ty le tap train\n",
      "0.8170891832085391\n",
      "mse: 0.416997042275829\n",
      "r2: 0.7973830001089237\n"
     ]
    }
   ],
   "source": [
    "X_train, X_test, y_train, y_test = train_test_split(X, y, test_size=0.1)\n",
    "model = LinearRegression()\n",
    "model.fit(X_train, y_train)\n",
    "y_pred = model.predict(X_test)\n",
    "print(\"ty le tap test\")\n",
    "print(model.score(X_test, y_test))\n",
    "print(\"ty le tap train\")\n",
    "print(model.score(X_train, y_train))\n",
    "print(\"mse: \"+str(mean_squared_error(y_test, y_pred))) #cang thap cang tot\n",
    "print(\"r2: \"+str(r2_score(y_test, y_pred))) #cang cao cang tot"
   ]
  },
  {
   "cell_type": "code",
   "execution_count": 244,
   "id": "62098a0e",
   "metadata": {},
   "outputs": [
    {
     "name": "stdout",
     "output_type": "stream",
     "text": [
      "ty le tap test\n",
      "0.8712296093391283\n",
      "ty le tap train\n",
      "0.7898768199608643\n",
      "mse: 0.34801745252211186\n",
      "r2: 0.8712296093391283\n"
     ]
    }
   ],
   "source": [
    "X_train, X_test, y_train, y_test = train_test_split(X, y, test_size=0.24)\n",
    "model = LinearRegression()\n",
    "model.fit(X_train, y_train)\n",
    "y_pred = model.predict(X_test)\n",
    "print(\"ty le tap test\")\n",
    "print(model.score(X_test, y_test))\n",
    "print(\"ty le tap train\")\n",
    "print(model.score(X_train, y_train))\n",
    "print(\"mse: \"+str(mean_squared_error(y_test, y_pred))) #cang thap cang tot\n",
    "print(\"r2: \"+str(r2_score(y_test, y_pred))) #cang cao cang tot"
   ]
  }
 ],
 "metadata": {
  "kernelspec": {
   "display_name": "Python 3 (ipykernel)",
   "language": "python",
   "name": "python3"
  },
  "language_info": {
   "codemirror_mode": {
    "name": "ipython",
    "version": 3
   },
   "file_extension": ".py",
   "mimetype": "text/x-python",
   "name": "python",
   "nbconvert_exporter": "python",
   "pygments_lexer": "ipython3",
   "version": "3.9.12"
  }
 },
 "nbformat": 4,
 "nbformat_minor": 5
}
